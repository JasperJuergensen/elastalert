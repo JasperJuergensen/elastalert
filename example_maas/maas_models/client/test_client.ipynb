{
 "cells": [
  {
   "cell_type": "code",
   "execution_count": 44,
   "metadata": {},
   "outputs": [
    {
     "data": {
      "text/plain": [
       "<Response [200]>"
      ]
     },
     "execution_count": 44,
     "metadata": {},
     "output_type": "execute_result"
    }
   ],
   "source": [
    "import pandas as pd\n",
    "\n",
    "import requests as r\n",
    "import time\n",
    "import datetime\n",
    "\n",
    "data_dict = {\n",
    "    \"ds\": [\"1172969203\"\n",
    "],\n",
    "    \"y\": [40]\n",
    "}\n",
    "data = pd.DataFrame.from_dict(data_dict)\n",
    "json_data = '{\"columns\":[\"ds\",\"y\"],\"index\":[0,1],\"data\":[[\"2020-06-02T00:00:00.000Z\",0],[\"2020-06-03T00:00:00.000Z\",0]]}'\n",
    "#json_data = '{\"columns\":[\"process_path\",\"event_id\"],\"index\":[0,1],\"data\":[[\":\\\\\\\\windows\\\\\\\\system32\\\\\\\\svchost.exe\",3],[\"c:\\\\\\\\windows\\\\\\\\system32\\\\\\\\svchost.exe\",10]]}'\n",
    "\n",
    "#son_data= data.to_json(orient='split')\n",
    "\n",
    "headers = {'content-type':'application/json'}\n",
    "\n",
    "url = \"http://localhost:5001/invocations\"\n",
    "\n",
    "resp = r.post(url, data = json_data, headers=headers) \n",
    "resp"
   ]
  },
  {
   "cell_type": "code",
   "execution_count": 45,
   "metadata": {
    "scrolled": true
   },
   "outputs": [
    {
     "data": {
      "text/plain": [
       "b'[[0.0, 0.6381507394841825], [0.0, 0.34659273523988726]]'"
      ]
     },
     "execution_count": 45,
     "metadata": {},
     "output_type": "execute_result"
    }
   ],
   "source": [
    "resp.content"
   ]
  },
  {
   "cell_type": "code",
   "execution_count": null,
   "metadata": {},
   "outputs": [],
   "source": []
  }
 ],
 "metadata": {
  "kernelspec": {
   "display_name": "Python 3",
   "language": "python",
   "name": "python3"
  },
  "language_info": {
   "codemirror_mode": {
    "name": "ipython",
    "version": 3
   },
   "file_extension": ".py",
   "mimetype": "text/x-python",
   "name": "python",
   "nbconvert_exporter": "python",
   "pygments_lexer": "ipython3",
   "version": "3.8.3"
  }
 },
 "nbformat": 4,
 "nbformat_minor": 4
}
