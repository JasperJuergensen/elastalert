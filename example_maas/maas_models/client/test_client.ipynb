{
 "cells": [
  {
   "cell_type": "code",
   "execution_count": 11,
   "metadata": {},
   "outputs": [
    {
     "data": {
      "text/plain": [
       "<Response [200]>"
      ]
     },
     "execution_count": 11,
     "metadata": {},
     "output_type": "execute_result"
    }
   ],
   "source": [
    "import pandas as pd\n",
    "\n",
    "import requests as r\n",
    "import time\n",
    "import datetime\n",
    "\n",
    "data_dict = {\n",
    "    \"ds\": [\"1172969203\"\n",
    "],\n",
    "    \"y\": [40]\n",
    "}\n",
    "data = pd.DataFrame.from_dict(data_dict)\n",
    "json_data = '{\"columns\":[\"ds\",\"y\"],\"index\":[0,1],\"data\":[[\"2020-06-02T00:00:00.000Z\",0],[\"2020-06-03T00:00:00.000Z\",0]]}'\n",
    "\n",
    "\n",
    "#son_data= data.to_json(orient='split')\n",
    "\n",
    "headers = {'content-type':'application/json'}\n",
    "\n",
    "url = \"http://localhost:5001/invocations\"\n",
    "\n",
    "resp = r.post(url, data = json_data, headers=headers) \n",
    "resp"
   ]
  },
  {
   "cell_type": "code",
   "execution_count": 12,
   "metadata": {
    "scrolled": true
   },
   "outputs": [
    {
     "data": {
      "text/plain": [
       "b'[[0.0, 0.4711682424393491], [0.0, 0.42649709531399876]]'"
      ]
     },
     "execution_count": 12,
     "metadata": {},
     "output_type": "execute_result"
    }
   ],
   "source": [
    "resp.content"
   ]
  }
 ],
 "metadata": {
  "kernelspec": {
   "display_name": "Python 3",
   "language": "python",
   "name": "python3"
  },
  "language_info": {
   "codemirror_mode": {
    "name": "ipython",
    "version": 3
   },
   "file_extension": ".py",
   "mimetype": "text/x-python",
   "name": "python",
   "nbconvert_exporter": "python",
   "pygments_lexer": "ipython3",
   "version": "3.7.6"
  }
 },
 "nbformat": 4,
 "nbformat_minor": 4
}
