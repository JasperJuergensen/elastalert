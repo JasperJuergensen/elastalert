{
 "cells": [
  {
   "cell_type": "code",
   "execution_count": 3,
   "metadata": {},
   "outputs": [
    {
     "data": {
      "text/plain": [
       "<Response [500]>"
      ]
     },
     "execution_count": 3,
     "metadata": {},
     "output_type": "execute_result"
    }
   ],
   "source": [
    "import pandas as pd\n",
    "\n",
    "import requests as r\n",
    "import time\n",
    "import datetime\n",
    "\n",
    "data_dict = {\n",
    "    \"ds\": [\"1172969203\"\n",
    "],\n",
    "    \"y\": [40]\n",
    "}\n",
    "data = pd.DataFrame.from_dict(data_dict)\n",
    "#json_data = '{\"columns\":[\"ds\",\"y\"],\"index\":[0,1],\"data\":[[\"2020-06-02T00:00:00.000Z\",0],[\"2020-06-03T00:00:00.000Z\",0]]}'\n",
    "'{\"columns\":[\"process_path\",\"event_id\"],\"index\":[0,1],\"data\":[[\"c:\\\\\\\\windows\\\\\\\\system32\\\\\\\\svchost.exe\",1],[\"c:\\\\\\\\windows\\\\\\\\system32\\\\\\\\svchost.exe\",1]]}'\n",
    "\n",
    "#son_data= data.to_json(orient='split')\n",
    "\n",
    "headers = {'content-type':'application/json'}\n",
    "\n",
    "url = \"http://localhost:5001/invocations\"\n",
    "\n",
    "resp = r.post(url, data = json_data, headers=headers) \n",
    "resp"
   ]
  },
  {
   "cell_type": "code",
   "execution_count": 4,
   "metadata": {
    "scrolled": true
   },
   "outputs": [
    {
     "data": {
      "text/plain": [
       "b'{\"error_code\": \"MALFORMED_REQUEST\", \"message\": \"Failed to parse input as a Pandas DataFrame. Ensure that the input is a valid JSON-formatted Pandas DataFrame with the `split` orient produced using the `pandas.DataFrame.to_json(..., orient=\\'split\\')` method.\", \"stack_trace\": \"Traceback (most recent call last):\\\\n  File \\\\\"/home/chris/miniconda3/envs/mlflow-ad8df0563e0c8dfada94c36e788c172f144d4412/lib/python3.7/site-packages/mlflow/pyfunc/scoring_server/__init__.py\\\\\", line 73, in parse_json_input\\\\n    return pd.read_json(json_input, orient=orient, dtype=False)\\\\n  File \\\\\"/home/chris/miniconda3/envs/mlflow-ad8df0563e0c8dfada94c36e788c172f144d4412/lib/python3.7/site-packages/pandas/util/_decorators.py\\\\\", line 214, in wrapper\\\\n    return func(*args, **kwargs)\\\\n  File \\\\\"/home/chris/miniconda3/envs/mlflow-ad8df0563e0c8dfada94c36e788c172f144d4412/lib/python3.7/site-packages/pandas/io/json/_json.py\\\\\", line 608, in read_json\\\\n    result = json_reader.read()\\\\n  File \\\\\"/home/chris/miniconda3/envs/mlflow-ad8df0563e0c8dfada94c36e788c172f144d4412/lib/python3.7/site-packages/pandas/io/json/_json.py\\\\\", line 731, in read\\\\n    obj = self._get_object_parser(self.data)\\\\n  File \\\\\"/home/chris/miniconda3/envs/mlflow-ad8df0563e0c8dfada94c36e788c172f144d4412/lib/python3.7/site-packages/pandas/io/json/_json.py\\\\\", line 753, in _get_object_parser\\\\n    obj = FrameParser(json, **kwargs).parse()\\\\n  File \\\\\"/home/chris/miniconda3/envs/mlflow-ad8df0563e0c8dfada94c36e788c172f144d4412/lib/python3.7/site-packages/pandas/io/json/_json.py\\\\\", line 857, in parse\\\\n    self._parse_no_numpy()\\\\n  File \\\\\"/home/chris/miniconda3/envs/mlflow-ad8df0563e0c8dfada94c36e788c172f144d4412/lib/python3.7/site-packages/pandas/io/json/_json.py\\\\\", line 1094, in _parse_no_numpy\\\\n    for k, v in loads(json, precise_float=self.precise_float).items()\\\\nValueError: Expected object or value\\\\n\"}'"
      ]
     },
     "execution_count": 4,
     "metadata": {},
     "output_type": "execute_result"
    }
   ],
   "source": [
    "resp.content"
   ]
  },
  {
   "cell_type": "code",
   "execution_count": null,
   "metadata": {},
   "outputs": [],
   "source": []
  }
 ],
 "metadata": {
  "kernelspec": {
   "display_name": "Python 3",
   "language": "python",
   "name": "python3"
  },
  "language_info": {
   "codemirror_mode": {
    "name": "ipython",
    "version": 3
   },
   "file_extension": ".py",
   "mimetype": "text/x-python",
   "name": "python",
   "nbconvert_exporter": "python",
   "pygments_lexer": "ipython3",
   "version": "3.8.3"
  }
 },
 "nbformat": 4,
 "nbformat_minor": 4
}
