{
 "cells": [
  {
   "cell_type": "code",
   "execution_count": 102,
   "metadata": {},
   "outputs": [],
   "source": [
    "ES_URL = \"http://192.168.122.3:9200\"\n",
    "ES_INDEX = \"logs-endpoint-winevent-sysmon-*\"\n",
    "COLUMNS = [\"process_path\", \"event_id\"]\n",
    "DROP_NA_COLUMNS = COLUMNS"
   ]
  },
  {
   "cell_type": "code",
   "execution_count": 103,
   "metadata": {},
   "outputs": [],
   "source": [
    "# append loglizer as it is not delivered as a python module\n",
    "\n",
    "import sys\n",
    "\n",
    "sys.path.append(\"dependencies/loglizer\")"
   ]
  },
  {
   "cell_type": "code",
   "execution_count": 104,
   "metadata": {},
   "outputs": [],
   "source": [
    "# imports\n",
    "import pandas as pd\n",
    "from elasticsearch import Elasticsearch  \n",
    "from elasticsearch_dsl import Search\n",
    "import functools\n",
    "import csv\n",
    "from os.path import isfile as isfile\n",
    "from loglizer import dataloader, preprocessing\n",
    "import hashlib\n",
    "\n",
    "def get_data(elast_url, index, columns, limit=-1):  \n",
    "        \n",
    "        def save_to_csv(elast_url, index, columns, file_name):\n",
    "            \n",
    "            print(\"saving to csv as file did not exist\")\n",
    "            es = Elasticsearch(elast_url,timeout=600)\n",
    "            s = Search(using=es, index=index).query().source(fields=columns)            \n",
    "            \n",
    "            with open(file_name, mode='w') as es_fd:\n",
    "                writer = csv.DictWriter(es_fd, fieldnames=columns)\n",
    "                writer.writeheader()\n",
    "                for hit in s.scan():          \n",
    "            \n",
    "                    # handles nested objects in response because of multilevel keys (i.e. agent.hostname) \n",
    "                    def rgetattr(obj, attr):\n",
    "                        def _getattr(obj, attr):\n",
    "                            try:\n",
    "                                return getattr(obj, attr)\n",
    "                            # Not all rows have the attributes we need, so return None\n",
    "                            except AttributeError: \n",
    "                                return None\n",
    "                        return functools.reduce(_getattr, [obj] + attr.split('.'))\n",
    "                    \n",
    "                    hit_dict = {column: rgetattr(hit, column) for column in columns}                    \n",
    "                    writer.writerow(hit_dict)\n",
    "                    \n",
    "                    \n",
    "        def read_from_csv(csv_file):\n",
    "\n",
    "            data = pd.read_csv(csv_file)\n",
    "            return data\n",
    "\n",
    "        file_name_clear = (\"{}{}{}{}{}\"\n",
    "            .format(\n",
    "                len(elast_url),\n",
    "                elast_url,\n",
    "                len(index),\n",
    "                index,\n",
    "                len(columns),\n",
    "                \".\".join(columns)))\n",
    "                   \n",
    "        file_name = (str(hashlib.sha1(file_name_clear.encode(\"UTF-8\")).hexdigest()[:10]) + \".csv\")\n",
    "            \n",
    "        print(\"filename: {}\".format(file_name))\n",
    "        \n",
    "        if not isfile(file_name):\n",
    "            save_to_csv(elast_url,index,columns,file_name)   \n",
    "        \n",
    "        data_frame = read_from_csv(file_name)\n",
    "        \n",
    "        if len(DROP_NA_COLUMNS) > 0:\n",
    "            data_frame.dropna(subset=DROP_NA_COLUMNS,how=\"any\")\n",
    "        \n",
    "        data_frame = data_frame[:limit]\n",
    "        \n",
    "        return data_frame[columns]\n",
    "    "
   ]
  },
  {
   "cell_type": "code",
   "execution_count": 105,
   "metadata": {},
   "outputs": [],
   "source": [
    "import logging\n",
    "import warnings\n",
    "import numpy as np\n",
    "\n",
    "def train(*params):\n",
    "    \n",
    "    # setup logging\n",
    "    logging.basicConfig(level=logging.WARN)\n",
    "    logger = logging.getLogger(__name__)\n",
    "    \n",
    "    np.random.seed(40)\n",
    "    \n",
    "    elast_url = ES_URL\n",
    "    index = ES_INDEX\n",
    "    \n",
    "    data = get_data(elast_url, index, COLUMNS, 1000)\n",
    "    return data\n",
    "    "
   ]
  },
  {
   "cell_type": "code",
   "execution_count": 106,
   "metadata": {},
   "outputs": [
    {
     "name": "stdout",
     "output_type": "stream",
     "text": [
      "filename: 90b32b8a13.csv\n"
     ]
    }
   ],
   "source": [
    "data = train()\n",
    "\n",
    "x_train_pd=data.sample(frac=0.8,random_state=200) #random state is a seed value\n",
    "x_test_pd=data.drop(x_train_pd.index)"
   ]
  },
  {
   "cell_type": "code",
   "execution_count": 107,
   "metadata": {},
   "outputs": [],
   "source": [
    "from loglizer.models import LogClustering\n",
    "from loglizer import preprocessing\n",
    "\n",
    "anomaly_threshold = 0.3 #\n",
    "max_dist = 0.3"
   ]
  },
  {
   "cell_type": "code",
   "execution_count": 108,
   "metadata": {},
   "outputs": [
    {
     "name": "stdout",
     "output_type": "stream",
     "text": [
      "====== Transformed train data summary ======\n",
      "Train data shape: 100-by-25\n",
      "\n",
      "====== Model summary ======\n",
      "Starting offline clustering...\n",
      "Processed 100 instances.\n",
      "Found 24 clusters offline.\n",
      "\n"
     ]
    },
    {
     "data": {
      "text/plain": [
       "Pipeline(steps=[('numpy_transformer',\n",
       "                 FunctionTransformer(func=<function <lambda> at 0x7f347101d8b0>)),\n",
       "                ('feature_extractor',\n",
       "                 <loglizer.preprocessing.FeatureExtractor object at 0x7f3471001970>),\n",
       "                ('model',\n",
       "                 <loglizer.models.LogClustering.LogClustering object at 0x7f3471001880>)])"
      ]
     },
     "execution_count": 108,
     "metadata": {},
     "output_type": "execute_result"
    }
   ],
   "source": [
    "from sklearn.pipeline import Pipeline\n",
    "from sklearn.preprocessing import FunctionTransformer\n",
    "\n",
    "pipeline_cluster =  (Pipeline(steps=[\n",
    "            ('numpy_transformer', FunctionTransformer(lambda x: x.to_numpy())),\n",
    "            ('feature_extractor', preprocessing.FeatureExtractor()),\n",
    "            ('model', LogClustering(max_dist=max_dist, anomaly_threshold=anomaly_threshold))]))\n",
    "\n",
    "pipeline_cluster.fit(x_train_pd[:100])"
   ]
  },
  {
   "cell_type": "code",
   "execution_count": 109,
   "metadata": {},
   "outputs": [
    {
     "name": "stdout",
     "output_type": "stream",
     "text": [
      "====== Transformed test data summary ======\n",
      "Test data shape: 200-by-25\n",
      "\n"
     ]
    },
    {
     "data": {
      "text/plain": [
       "0.955"
      ]
     },
     "execution_count": 109,
     "metadata": {},
     "output_type": "execute_result"
    }
   ],
   "source": [
    "from sklearn.metrics import accuracy_score\n",
    "m = pipeline_cluster.predict(x_test_pd[:200])\n",
    "\n",
    "\n",
    "accuracy_score(m, np.zeros(x_test_pd.shape[0]))"
   ]
  },
  {
   "cell_type": "code",
   "execution_count": 110,
   "metadata": {},
   "outputs": [
    {
     "name": "stdout",
     "output_type": "stream",
     "text": [
      "====== Transformed train data summary ======\n",
      "Train data shape: 800-by-40\n",
      "\n",
      "====== Model summary ======\n"
     ]
    },
    {
     "name": "stderr",
     "output_type": "stream",
     "text": [
      "/home/chris/miniconda3/envs/mlflow/lib/python3.8/site-packages/sklearn/ensemble/_iforest.py:252: FutureWarning: 'behaviour' is deprecated in 0.22 and will be removed in 0.24. You should not pass or set this parameter.\n",
      "  warn(\n"
     ]
    },
    {
     "data": {
      "text/plain": [
       "Pipeline(steps=[('numpy_transformer',\n",
       "                 FunctionTransformer(func=<function <lambda> at 0x7f347101d5e0>)),\n",
       "                ('feature_extractor',\n",
       "                 <loglizer.preprocessing.FeatureExtractor object at 0x7f3471001070>),\n",
       "                ('model', IsolationForest())])"
      ]
     },
     "execution_count": 110,
     "metadata": {},
     "output_type": "execute_result"
    }
   ],
   "source": [
    "from sklearn.pipeline import Pipeline\n",
    "from sklearn.preprocessing import FunctionTransformer\n",
    "from loglizer.models import IsolationForest\n",
    "\n",
    "pipeline_iforest =  (Pipeline(steps=[\n",
    "            ('numpy_transformer', FunctionTransformer(lambda x: x.to_numpy())),\n",
    "            ('feature_extractor', preprocessing.FeatureExtractor()),\n",
    "            ('model', IsolationForest(contamination=0.03))]))\n",
    "pipeline_iforest.fit(x_train_pd)"
   ]
  },
  {
   "cell_type": "code",
   "execution_count": 111,
   "metadata": {},
   "outputs": [
    {
     "name": "stdout",
     "output_type": "stream",
     "text": [
      "====== Transformed test data summary ======\n",
      "Test data shape: 200-by-25\n",
      "\n"
     ]
    },
    {
     "data": {
      "text/plain": [
       "0.955"
      ]
     },
     "execution_count": 111,
     "metadata": {},
     "output_type": "execute_result"
    }
   ],
   "source": [
    "from sklearn.metrics import accuracy_score\n",
    "m = pipeline_cluster.predict(x_test_pd)\n",
    "\n",
    "\n",
    "accuracy_score(m, np.zeros(x_test_pd.shape[0]))"
   ]
  },
  {
   "cell_type": "code",
   "execution_count": 112,
   "metadata": {},
   "outputs": [
    {
     "data": {
      "text/html": [
       "<div>\n",
       "<style scoped>\n",
       "    .dataframe tbody tr th:only-of-type {\n",
       "        vertical-align: middle;\n",
       "    }\n",
       "\n",
       "    .dataframe tbody tr th {\n",
       "        vertical-align: top;\n",
       "    }\n",
       "\n",
       "    .dataframe thead th {\n",
       "        text-align: right;\n",
       "    }\n",
       "</style>\n",
       "<table border=\"1\" class=\"dataframe\">\n",
       "  <thead>\n",
       "    <tr style=\"text-align: right;\">\n",
       "      <th></th>\n",
       "      <th>process_path</th>\n",
       "      <th>event_id</th>\n",
       "    </tr>\n",
       "  </thead>\n",
       "  <tbody>\n",
       "    <tr>\n",
       "      <th>2</th>\n",
       "      <td>c:\\users\\gazelle01\\appdata\\local\\microsoft\\one...</td>\n",
       "      <td>1</td>\n",
       "    </tr>\n",
       "    <tr>\n",
       "      <th>567</th>\n",
       "      <td>system</td>\n",
       "      <td>13</td>\n",
       "    </tr>\n",
       "    <tr>\n",
       "      <th>594</th>\n",
       "      <td>c:\\programdata\\microsoft\\windows defender\\plat...</td>\n",
       "      <td>13</td>\n",
       "    </tr>\n",
       "    <tr>\n",
       "      <th>708</th>\n",
       "      <td>c:\\windows\\explorer.exe</td>\n",
       "      <td>13</td>\n",
       "    </tr>\n",
       "    <tr>\n",
       "      <th>743</th>\n",
       "      <td>c:\\programdata\\microsoft\\windows defender\\plat...</td>\n",
       "      <td>13</td>\n",
       "    </tr>\n",
       "    <tr>\n",
       "      <th>816</th>\n",
       "      <td>system</td>\n",
       "      <td>13</td>\n",
       "    </tr>\n",
       "    <tr>\n",
       "      <th>894</th>\n",
       "      <td>c:\\windows\\system32\\sihost.exe</td>\n",
       "      <td>12</td>\n",
       "    </tr>\n",
       "    <tr>\n",
       "      <th>941</th>\n",
       "      <td>c:\\windows\\system32\\sihost.exe</td>\n",
       "      <td>12</td>\n",
       "    </tr>\n",
       "    <tr>\n",
       "      <th>997</th>\n",
       "      <td>c:\\windows\\system32\\svchost.exe</td>\n",
       "      <td>11</td>\n",
       "    </tr>\n",
       "  </tbody>\n",
       "</table>\n",
       "</div>"
      ],
      "text/plain": [
       "                                          process_path  event_id\n",
       "2    c:\\users\\gazelle01\\appdata\\local\\microsoft\\one...         1\n",
       "567                                             system        13\n",
       "594  c:\\programdata\\microsoft\\windows defender\\plat...        13\n",
       "708                            c:\\windows\\explorer.exe        13\n",
       "743  c:\\programdata\\microsoft\\windows defender\\plat...        13\n",
       "816                                             system        13\n",
       "894                     c:\\windows\\system32\\sihost.exe        12\n",
       "941                     c:\\windows\\system32\\sihost.exe        12\n",
       "997                    c:\\windows\\system32\\svchost.exe        11"
      ]
     },
     "execution_count": 112,
     "metadata": {},
     "output_type": "execute_result"
    }
   ],
   "source": [
    "anomaly_pos = [i for i, el in enumerate(m) if el == 1]\n",
    "x_test_pd.iloc[anomaly_pos]\n"
   ]
  },
  {
   "cell_type": "code",
   "execution_count": null,
   "metadata": {},
   "outputs": [],
   "source": []
  }
 ],
 "metadata": {
  "kernelspec": {
   "display_name": "Python 3",
   "language": "python",
   "name": "python3"
  },
  "language_info": {
   "codemirror_mode": {
    "name": "ipython",
    "version": 3
   },
   "file_extension": ".py",
   "mimetype": "text/x-python",
   "name": "python",
   "nbconvert_exporter": "python",
   "pygments_lexer": "ipython3",
   "version": "3.8.3"
  }
 },
 "nbformat": 4,
 "nbformat_minor": 4
}
